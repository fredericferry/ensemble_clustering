{
 "cells": [
  {
   "cell_type": "markdown",
   "metadata": {},
   "source": [
    "# Cyclone tropical Nadine (septembre 2012) : analyse et prévision déterministe\n",
    "\n",
    "Auteur : FERRY Frédéric (ENM/C3M) - Mars 2022\n",
    "\n",
    "Cas du cyclone tropical Nadine sur l'Alantique. Analyse et prévision déterministe du run du 20/09/2012 0000UTC.\n",
    "\n",
    "Concepts Python illustrés :\n",
    "\n",
    "- Exploitation de fichiers netcdf (xarray)\n",
    "- Tracé de cartes (matplotlib, cartopy)\n",
    "- Filtrage spatial gaussien (module gaussian_filter de scipy)\n",
    "- Pointage des min/max"
   ]
  },
  {
   "cell_type": "code",
   "execution_count": 97,
   "metadata": {},
   "outputs": [],
   "source": [
    "%matplotlib inline\n",
    "\n",
    "import os\n",
    "\n",
    "import xarray as xr\n",
    "import numpy as np\n",
    "\n",
    "import matplotlib as mpl\n",
    "import matplotlib.pyplot as plt\n",
    "from mpl_toolkits.axes_grid1 import AxesGrid\n",
    "\n",
    "from cartopy import config\n",
    "import cartopy.crs as ccrs\n",
    "from cartopy.mpl.geoaxes import GeoAxes\n",
    "from cartopy.mpl.ticker import LongitudeFormatter, LatitudeFormatter\n",
    "\n",
    "from scipy.ndimage import gaussian_filter\n",
    "\n",
    "import IPython.display as IPdisplay, matplotlib.font_manager as fm\n",
    "from PIL import Image\n",
    "import glob"
   ]
  },
  {
   "cell_type": "raw",
   "metadata": {},
   "source": [
    "Données utilisateur."
   ]
  },
  {
   "cell_type": "code",
   "execution_count": 98,
   "metadata": {},
   "outputs": [],
   "source": [
    "# Analysis data\n",
    "Ana_Z500 = './data/Z500_September2012_HiRes.nc'\n",
    "Ana_MSLP = './data/MSLP_September2012_HiRes.nc'\n",
    "\n",
    "# Analysis time\n",
    "t0 ='2012-09-15T00:00:00.000000000'\n",
    "t1 ='2012-09-20T00:00:00.000000000'\n",
    "\n",
    "# Hires\n",
    "Fcst_Z = './data/geop_fc_20120920-allsteps-gridded.nc'\n",
    "Fcst_MSLP = './data/mslp_fc_20120920-allsteps-gridded.nc'\n",
    "\n",
    "# Domain for field plots\n",
    "latS = 20.\n",
    "latN = 70.\n",
    "lonW = -60.\n",
    "lonE = 30."
   ]
  },
  {
   "cell_type": "raw",
   "metadata": {},
   "source": [
    "Fonction de fonds de cartes."
   ]
  },
  {
   "cell_type": "code",
   "execution_count": 99,
   "metadata": {},
   "outputs": [],
   "source": [
    "projection=ccrs.PlateCarree()\n",
    "bounds = [(lonW, lonE, latS, latN)]\n",
    "\n",
    "def plot_background(ax):\n",
    "    ax.coastlines()\n",
    "    ax.gridlines()\n",
    "    ax.set_xticks(np.linspace(-180, 180, 19), crs=ccrs.PlateCarree())\n",
    "    ax.set_yticks(np.linspace(-90, 90, 19), crs=ccrs.PlateCarree())\n",
    "    lon_formatter = LongitudeFormatter(zero_direction_label=True)\n",
    "    lat_formatter = LatitudeFormatter()\n",
    "    ax.xaxis.set_major_formatter(lon_formatter)\n",
    "    ax.yaxis.set_major_formatter(lat_formatter)\n",
    "    ax.set_extent(*bounds, crs=ccrs.PlateCarree())\n",
    "    return(ax)             "
   ]
  },
  {
   "cell_type": "raw",
   "metadata": {},
   "source": [
    "Fonction de pointage des min max."
   ]
  },
  {
   "cell_type": "code",
   "execution_count": 100,
   "metadata": {},
   "outputs": [],
   "source": [
    "def plot_maxmin_points(lon, lat, data, extrema, nsize, symbol, color='k',\n",
    "                       plotValue=True, transform=None):\n",
    "    \"\"\"\n",
    "    This function will find and plot relative maximum and minimum for a 2D grid. The function\n",
    "    can be used to plot an H for maximum values (e.g., High pressure) and an L for minimum\n",
    "    values (e.g., low pressue). It is best to used filetered data to obtain  a synoptic scale\n",
    "    max/min value. The symbol text can be set to a string value and optionally the color of the\n",
    "    symbol and any plotted value can be set with the parameter color\n",
    "    lon = plotting longitude values (2D)\n",
    "    lat = plotting latitude values (2D)\n",
    "    data = 2D data that you wish to plot the max/min symbol placement\n",
    "    extrema = Either a value of max for Maximum Values or min for Minimum Values\n",
    "    nsize = Size of the grid box to filter the max and min values to plot a reasonable number\n",
    "    symbol = String to be placed at location of max/min value\n",
    "    color = String matplotlib colorname to plot the symbol (and numerica value, if plotted)\n",
    "    plot_value = Boolean (True/False) of whether to plot the numeric value of max/min point\n",
    "    The max/min symbol will be plotted on the current axes within the bounding frame\n",
    "    (e.g., clip_on=True)\n",
    "    \"\"\"\n",
    "    from scipy.ndimage.filters import maximum_filter, minimum_filter\n",
    "\n",
    "    if (extrema == 'max'):\n",
    "        data_ext = maximum_filter(data, nsize, mode='nearest')\n",
    "    elif (extrema == 'min'):\n",
    "        data_ext = minimum_filter(data, nsize, mode='nearest')\n",
    "    else:\n",
    "        raise ValueError('Value for hilo must be either max or min')\n",
    "\n",
    "    mxy, mxx = np.where(data_ext == data)\n",
    "\n",
    "    for i in range(len(mxy)):\n",
    "        ax.text(lon[mxy[i], mxx[i]], lat[mxy[i], mxx[i]], symbol, color=color, size=12,\n",
    "                clip_on=True, horizontalalignment='center', verticalalignment='center',\n",
    "                transform=transform)\n",
    "        ax.text(lon[mxy[i], mxx[i]], lat[mxy[i], mxx[i]],\n",
    "                '\\n' + str(int(data[mxy[i], mxx[i]])),\n",
    "                color=color, size=10, clip_on=True, fontweight='bold',\n",
    "                horizontalalignment='center', verticalalignment='top', transform=transform)"
   ]
  },
  {
   "cell_type": "raw",
   "metadata": {},
   "source": [
    "Fonction animation"
   ]
  },
  {
   "cell_type": "code",
   "execution_count": 101,
   "metadata": {},
   "outputs": [],
   "source": [
    "def make_animation():\n",
    "    nbimages=len(time)\n",
    "    # create a tuple of display durations, one for each frame\n",
    "    first_last = 1000 #show the first and last frames for 100 ms\n",
    "    standard_duration = 1000 #show all other frames for 5 ms\n",
    "    durations = tuple([first_last] + [standard_duration] * (nbimages - 2) + [first_last])\n",
    "    # load all the static images into a list\n",
    "    images = [Image.open(image) for image in sorted(glob.glob('{}/*.png'.format('./anim/')))]\n",
    "    # save as an animated gif\n",
    "    gif = images[0]\n",
    "    gif.info['duration'] = durations #ms per frame\n",
    "    gif.info['loop'] = 0 #how many times to loop (0=infinite)\n",
    "    gif.save(fp=gif_filepath, format='gif', save_all=True, append_images=images[1:])\n",
    "    # verify that the number of frames in the gif equals the number of image files and durations\n",
    "    Image.open(gif_filepath).n_frames == len(images) == len(durations)\n",
    "    # clean png\n",
    "    os.chdir(\"./anim/\")\n",
    "    for f in glob.glob(\"*.png\"):\n",
    "        os.remove(f)\n",
    "    os.chdir(\"../\")\n",
    "    return Image"
   ]
  },
  {
   "cell_type": "markdown",
   "metadata": {},
   "source": [
    "# Partie 1 : étude des données d'analyse (15-20 septembre 2012)"
   ]
  },
  {
   "cell_type": "raw",
   "metadata": {},
   "source": [
    "Ouverture des données d'analyse."
   ]
  },
  {
   "cell_type": "code",
   "execution_count": 102,
   "metadata": {},
   "outputs": [
    {
     "name": "stdout",
     "output_type": "stream",
     "text": [
      "<xarray.Dataset>\n",
      "Dimensions:  (lon: 301, lat: 121, lev: 1, time: 120)\n",
      "Coordinates:\n",
      "  * lon      (lon) float64 -90.0 -89.5 -89.0 -88.5 -88.0 ... 58.5 59.0 59.5 60.0\n",
      "  * lat      (lat) float64 80.0 79.5 79.0 78.5 78.0 ... 22.0 21.5 21.0 20.5 20.0\n",
      "  * lev      (lev) float64 5e+04\n",
      "  * time     (time) datetime64[ns] 2012-09-01 ... 2012-09-30T18:00:00\n",
      "Data variables:\n",
      "    var129   (time, lev, lat, lon) float32 ...\n",
      "Attributes:\n",
      "    CDI:          Climate Data Interface version 1.4.3\n",
      "    Conventions:  CF-1.0\n",
      "    history:      Tue Aug 20 18:22:29 2019: cdo -f nc copy Z500_September2012...\n",
      "    institution:  European Centre for Medium-Range Weather Forecasts\n",
      "    CDO:          Climate Data Operators version 1.4.3 (http://www.mpimet.mpg...\n",
      "<xarray.Dataset>\n",
      "Dimensions:  (lon: 1067, lat: 429, time: 120)\n",
      "Coordinates:\n",
      "  * lon      (lon) float64 -90.14 -90.0 -89.86 -89.72 ... 59.88 60.02 60.16\n",
      "  * lat      (lat) float64 80.22 80.08 79.94 79.8 ... 20.3 20.16 20.02 19.87\n",
      "  * time     (time) datetime64[ns] 2012-09-01 ... 2012-09-30T18:00:00\n",
      "Data variables:\n",
      "    var151   (time, lat, lon) float32 ...\n",
      "Attributes:\n",
      "    CDI:          Climate Data Interface version 1.4.3\n",
      "    Conventions:  CF-1.0\n",
      "    history:      Tue Aug 20 18:22:17 2019: cdo -f nc copy MSLP_September2012...\n",
      "    institution:  European Centre for Medium-Range Weather Forecasts\n",
      "    CDO:          Climate Data Operators version 1.4.3 (http://www.mpimet.mpg...\n"
     ]
    }
   ],
   "source": [
    "data_z    = xr.open_dataset(Ana_Z500)\n",
    "data_mslp   = xr.open_dataset(Ana_MSLP)\n",
    "\n",
    "print(data_z)\n",
    "print(data_mslp)"
   ]
  },
  {
   "cell_type": "raw",
   "metadata": {},
   "source": [
    "Ouverture des données d'analyse sur le domaine de tracé choisi et pour la période choisie."
   ]
  },
  {
   "cell_type": "code",
   "execution_count": 103,
   "metadata": {
    "scrolled": false
   },
   "outputs": [
    {
     "name": "stdout",
     "output_type": "stream",
     "text": [
      "<xarray.Dataset>\n",
      "Dimensions:  (lon: 181, lat: 101, time: 21)\n",
      "Coordinates:\n",
      "  * lon      (lon) float64 -60.0 -59.5 -59.0 -58.5 -58.0 ... 28.5 29.0 29.5 30.0\n",
      "  * lat      (lat) float64 70.0 69.5 69.0 68.5 68.0 ... 22.0 21.5 21.0 20.5 20.0\n",
      "    lev      float64 5e+04\n",
      "  * time     (time) datetime64[ns] 2012-09-15 2012-09-15T06:00:00 ... 2012-09-20\n",
      "Data variables:\n",
      "    var129   (time, lat, lon) float32 ...\n",
      "Attributes:\n",
      "    CDI:          Climate Data Interface version 1.4.3\n",
      "    Conventions:  CF-1.0\n",
      "    history:      Tue Aug 20 18:22:29 2019: cdo -f nc copy Z500_September2012...\n",
      "    institution:  European Centre for Medium-Range Weather Forecasts\n",
      "    CDO:          Climate Data Operators version 1.4.3 (http://www.mpimet.mpg...\n",
      "<xarray.Dataset>\n",
      "Dimensions:  (lon: 639, lat: 355, time: 21)\n",
      "Coordinates:\n",
      "  * lon      (lon) float64 -59.97 -59.83 -59.69 -59.55 ... 29.71 29.85 29.99\n",
      "  * lat      (lat) float64 69.93 69.79 69.65 69.51 ... 20.44 20.3 20.16 20.02\n",
      "  * time     (time) datetime64[ns] 2012-09-15 2012-09-15T06:00:00 ... 2012-09-20\n",
      "Data variables:\n",
      "    var151   (time, lat, lon) float32 ...\n",
      "Attributes:\n",
      "    CDI:          Climate Data Interface version 1.4.3\n",
      "    Conventions:  CF-1.0\n",
      "    history:      Tue Aug 20 18:22:17 2019: cdo -f nc copy MSLP_September2012...\n",
      "    institution:  European Centre for Medium-Range Weather Forecasts\n",
      "    CDO:          Climate Data Operators version 1.4.3 (http://www.mpimet.mpg...\n",
      "['2012-09-15T00', '2012-09-15T06', '2012-09-15T12', '2012-09-15T18', '2012-09-16T00', '2012-09-16T06', '2012-09-16T12', '2012-09-16T18', '2012-09-17T00', '2012-09-17T06', '2012-09-17T12', '2012-09-17T18', '2012-09-18T00', '2012-09-18T06', '2012-09-18T12', '2012-09-18T18', '2012-09-19T00', '2012-09-19T06', '2012-09-19T12', '2012-09-19T18', '2012-09-20T00']\n"
     ]
    }
   ],
   "source": [
    "data_z    = xr.open_dataset(Ana_Z500).sel(lat=slice(latN,latS)).sel(lon=slice(lonW,lonE)).sel(time=slice(t0,t1)).squeeze()\n",
    "data_mslp   = xr.open_dataset(Ana_MSLP).sel(lat=slice(latN,latS)).sel(lon=slice(lonW,lonE)).sel(time=slice(t0,t1)).squeeze()\n",
    "\n",
    "print(data_z)\n",
    "print(data_mslp)\n",
    "\n",
    "lats_z = data_z.lat.values\n",
    "lons_z = data_z.lon.values\n",
    "lats_mslp = data_mslp.lat.values\n",
    "lons_mslp = data_mslp.lon.values\n",
    "\n",
    "z_ana = data_z['var129']/9.81\n",
    "mslp_ana = data_mslp['var151']/100\n",
    "\n",
    "time = data_mslp.time.values\n",
    "times_str=[x for x in range(len(time))]\n",
    "dates_str=[x for x in range(len(time))]\n",
    "\n",
    "for i in range(len(time)):\n",
    "\ttimes_str[i] = str(time[i])\n",
    "\tdates_str[i] = times_str[i][0:13]\n",
    "\n",
    "print(dates_str)"
   ]
  },
  {
   "cell_type": "raw",
   "metadata": {},
   "source": [
    "Filtrage et grilles lat/lon 2D pour détection min max"
   ]
  },
  {
   "cell_type": "code",
   "execution_count": 104,
   "metadata": {},
   "outputs": [],
   "source": [
    "z_ana_filter = gaussian_filter(z_ana, sigma=2.0)\n",
    "mslp_ana_filter = gaussian_filter(mslp_ana, sigma=2.0)\n",
    "\n",
    "lon_grid_z, lat_grid_z = np.meshgrid(lons_z, lats_z)\n",
    "lon_grid_mslp, lat_grid_mslp = np.meshgrid(lons_mslp, lats_mslp)"
   ]
  },
  {
   "cell_type": "raw",
   "metadata": {},
   "source": [
    "Tracé des Cartes."
   ]
  },
  {
   "cell_type": "code",
   "execution_count": 105,
   "metadata": {
    "scrolled": false
   },
   "outputs": [
    {
     "name": "stdout",
     "output_type": "stream",
     "text": [
      "(21,)\n",
      "2012-09-15T00\n",
      "2012-09-15T06\n",
      "2012-09-15T12\n",
      "2012-09-15T18\n",
      "2012-09-16T00\n",
      "2012-09-16T06\n",
      "2012-09-16T12\n",
      "2012-09-16T18\n",
      "2012-09-17T00\n",
      "2012-09-17T06\n",
      "2012-09-17T12\n",
      "2012-09-17T18\n",
      "2012-09-18T00\n",
      "2012-09-18T06\n",
      "2012-09-18T12\n",
      "2012-09-18T18\n",
      "2012-09-19T00\n",
      "2012-09-19T06\n",
      "2012-09-19T12\n",
      "2012-09-19T18\n",
      "2012-09-20T00\n"
     ]
    },
    {
     "data": {
      "text/html": [
       "<img src=\"./anim/Z500_MSLP.gif\"/>"
      ],
      "text/plain": [
       "<IPython.core.display.Image object>"
      ]
     },
     "execution_count": 105,
     "metadata": {},
     "output_type": "execute_result"
    }
   ],
   "source": [
    "print(time.shape)\n",
    "cmap='jet'\n",
    "clevs1 = np.linspace(5000, 6000, 21)\n",
    "clevs2 = np.linspace(980, 1040, 21)\n",
    "\n",
    "for i in range(len(time)):\n",
    "    print(dates_str[i])\n",
    "    fig = plt.figure(figsize=(15, 15))\n",
    "    fig.suptitle('Analysis : '+dates_str[i], fontsize=14)\n",
    "    ax = fig.add_subplot(2, 1, 1, projection=ccrs.PlateCarree())\n",
    "    plt.title('Geopotential height at 500 hPa', size=10, loc='center')\n",
    "    plot_background(ax)\n",
    "    cf = ax.contourf(lons_z, lats_z, z_ana[i,:,:], levels=clevs1, cmap=cmap, extend='both',\n",
    "                     transform=ccrs.PlateCarree())\n",
    "    c = ax.contour(lons_z, lats_z, z_ana[i,:,:], levels=clevs1, colors='black', linewidths=0.5,\n",
    "                   transform=ccrs.PlateCarree())\n",
    "    ax.clabel(c, fmt='%4.1i', fontsize=10)\n",
    "    plot_maxmin_points(lon_grid_z, lat_grid_z, z_ana_filter[i,:,:], 'max', 50, symbol='H', color='r',\n",
    "                       transform=ccrs.PlateCarree())\n",
    "    plot_maxmin_points(lon_grid_z, lat_grid_z, z_ana_filter[i,:,:], 'min', 25, symbol='L', color='b',\n",
    "                       transform=ccrs.PlateCarree())\n",
    "    cb = fig.colorbar(cf, orientation='vertical', aspect=65, shrink=1, pad=0.05, extendrect='True')\n",
    "    cb.set_label('(m)', fontsize=12)\n",
    "    \n",
    "    ax = fig.add_subplot(2, 1, 2, projection=ccrs.PlateCarree())\n",
    "    plt.title('Mean Sea Level Pressure', fontsize=10, loc='center')\n",
    "    plot_background(ax)\n",
    "    cf = ax.contourf(lons_mslp, lats_mslp, mslp_ana[i,:,:], levels=clevs2, cmap=cmap, extend='both',\n",
    "                     transform=ccrs.PlateCarree())\n",
    "    c = ax.contour(lons_mslp, lats_mslp, mslp_ana[i,:,:], levels=clevs2, colors='black', linewidths=0.5,\n",
    "                   transform=ccrs.PlateCarree())\n",
    "    ax.clabel(c, fmt='%4.1i', fontsize=10)\n",
    "    plot_maxmin_points(lon_grid_mslp, lat_grid_mslp, mslp_ana_filter[i,:,:], 'max', 50, symbol='H', color='r',\n",
    "                       transform=ccrs.PlateCarree())\n",
    "    plot_maxmin_points(lon_grid_mslp, lat_grid_mslp, mslp_ana_filter[i,:,:], 'min', 25, symbol='L', color='b',\n",
    "                       transform=ccrs.PlateCarree())\n",
    "    cb = fig.colorbar(cf, orientation='vertical', aspect=65, shrink=1, pad=0.05, extendrect='True')\n",
    "    cb.set_label('(hPa)', fontsize=12)\n",
    "    \n",
    "    plt.close()\n",
    "    figname='./anim/Z500_MSLP_'+dates_str[i]\n",
    "    fig.savefig(figname+'.png')\n",
    "    \n",
    "gif_filepath = './anim/Z500_MSLP.gif'\n",
    "make_animation()\n",
    "IPdisplay.Image(url=gif_filepath)"
   ]
  },
  {
   "cell_type": "markdown",
   "metadata": {},
   "source": [
    "# Partie 2 : étude des données de prévision déterministe (20-30 septembre 2012)"
   ]
  },
  {
   "cell_type": "raw",
   "metadata": {},
   "source": [
    "Ouverture des prévisions déterministes : prévisions du run du 20/09/2012 000UTC.\n",
    "Attention : longitudes de 0 à 360."
   ]
  },
  {
   "cell_type": "code",
   "execution_count": 106,
   "metadata": {},
   "outputs": [
    {
     "name": "stdout",
     "output_type": "stream",
     "text": [
      "<xarray.Dataset>\n",
      "Dimensions:  (lon: 2400, lat: 1201, lev: 8, time: 21)\n",
      "Coordinates:\n",
      "  * lon      (lon) float64 0.0 0.15 0.3 0.45 0.6 ... 359.4 359.6 359.7 359.8\n",
      "  * lat      (lat) float64 90.0 89.85 89.7 89.55 ... -89.55 -89.7 -89.85 -90.0\n",
      "  * lev      (lev) float64 3e+04 4e+04 5e+04 6e+04 7e+04 8e+04 8.5e+04 9e+04\n",
      "  * time     (time) datetime64[ns] 2012-09-20 2012-09-20T12:00:00 ... 2012-09-30\n",
      "Data variables:\n",
      "    var129   (time, lev, lat, lon) float32 ...\n",
      "Attributes:\n",
      "    CDI:          Climate Data Interface version 1.4.3\n",
      "    Conventions:  CF-1.0\n",
      "    history:      Fri Nov 22 10:49:32 2019: cdo -f nc copy geop_fc_20120920-a...\n",
      "    institution:  European Centre for Medium-Range Weather Forecasts\n",
      "    CDO:          Climate Data Operators version 1.4.3 (http://www.mpimet.mpg...\n",
      "<xarray.Dataset>\n",
      "Dimensions:  (lon: 2560, lat: 1280, time: 21)\n",
      "Coordinates:\n",
      "  * lon      (lon) float64 0.0 0.1406 0.2812 0.4219 ... 359.4 359.6 359.7 359.9\n",
      "  * lat      (lat) float64 89.89 89.75 89.61 89.47 ... -89.61 -89.75 -89.89\n",
      "  * time     (time) datetime64[ns] 2012-09-20 2012-09-20T12:00:00 ... 2012-09-30\n",
      "Data variables:\n",
      "    var151   (time, lat, lon) float32 ...\n",
      "Attributes:\n",
      "    CDI:          Climate Data Interface version 1.4.3\n",
      "    Conventions:  CF-1.0\n",
      "    history:      Fri Nov 22 11:27:08 2019: cdo -f nc copy mslp_fc_20120920-a...\n",
      "    institution:  European Centre for Medium-Range Weather Forecasts\n",
      "    CDO:          Climate Data Operators version 1.4.3 (http://www.mpimet.mpg...\n"
     ]
    }
   ],
   "source": [
    "z_fcst    = xr.open_dataset(Fcst_Z)\n",
    "mslp_fcst    = xr.open_dataset(Fcst_MSLP)\n",
    "\n",
    "print(z_fcst)\n",
    "print(mslp_fcst)"
   ]
  },
  {
   "cell_type": "raw",
   "metadata": {},
   "source": [
    "Ouverture des prévisions déterministes.\n",
    "Attention : longitudes de 0 à 360."
   ]
  },
  {
   "cell_type": "code",
   "execution_count": 107,
   "metadata": {},
   "outputs": [
    {
     "name": "stdout",
     "output_type": "stream",
     "text": [
      "['2012-09-20T00', '2012-09-20T12', '2012-09-21T00', '2012-09-21T12', '2012-09-22T00', '2012-09-22T12', '2012-09-23T00', '2012-09-23T12', '2012-09-24T00', '2012-09-24T12', '2012-09-25T00', '2012-09-25T12', '2012-09-26T00', '2012-09-26T12', '2012-09-27T00', '2012-09-27T12', '2012-09-28T00', '2012-09-28T12', '2012-09-29T00', '2012-09-29T12', '2012-09-30T00']\n"
     ]
    }
   ],
   "source": [
    "data_zf    = xr.open_dataset(Fcst_Z).sel(lev=50000).squeeze()\n",
    "z_fcst=data_zf['var129']/9.81\n",
    "\n",
    "data_mslpf    = xr.open_dataset(Fcst_MSLP)\n",
    "mslp_fcst=data_mslpf['var151']/100\n",
    "\n",
    "timef = data_zf.time.values\n",
    "timesf_str=[x for x in range(len(timef))]\n",
    "datesf_str=[x for x in range(len(timef))]\n",
    "\n",
    "for i in range(len(timef)):\n",
    "\ttimesf_str[i] = str(timef[i])\n",
    "\tdatesf_str[i] = timesf_str[i][0:13]\n",
    "\n",
    "print(datesf_str)"
   ]
  },
  {
   "cell_type": "raw",
   "metadata": {},
   "source": [
    "Conversion 0-360 en -180 180."
   ]
  },
  {
   "cell_type": "code",
   "execution_count": 108,
   "metadata": {},
   "outputs": [
    {
     "name": "stdout",
     "output_type": "stream",
     "text": [
      "[ 90.    89.85  89.7  ... -89.7  -89.85 -90.  ]\n",
      "[-179.85 -179.7  -179.55 ...  179.7   179.85  180.  ]\n",
      "[ 89.89239645  89.75300494  89.61279026 ... -89.61279026 -89.75300494\n",
      " -89.89239645]\n",
      "[-179.859375 -179.71875  -179.578125 ...  179.71875   179.859375\n",
      "  180.      ]\n"
     ]
    }
   ],
   "source": [
    "lon_name = 'lon'\n",
    "\n",
    "z_fcst['_longitude_adjusted'] = xr.where(\n",
    "    z_fcst[lon_name] > 180,\n",
    "    z_fcst[lon_name] - 360,\n",
    "    z_fcst[lon_name])\n",
    "z_fcst = (\n",
    "    z_fcst\n",
    "    .swap_dims({lon_name: '_longitude_adjusted'})\n",
    "    .sel(**{'_longitude_adjusted': sorted(z_fcst._longitude_adjusted)})\n",
    "    .drop(lon_name))\n",
    "z_fcst = z_fcst.rename({'_longitude_adjusted': lon_name})\n",
    "\n",
    "mslp_fcst['_longitude_adjusted'] = xr.where(\n",
    "    mslp_fcst[lon_name] > 180,\n",
    "    mslp_fcst[lon_name] - 360,\n",
    "    mslp_fcst[lon_name])\n",
    "mslp_fcst = (\n",
    "    mslp_fcst\n",
    "    .swap_dims({lon_name: '_longitude_adjusted'})\n",
    "    .sel(**{'_longitude_adjusted': sorted(mslp_fcst._longitude_adjusted)})\n",
    "    .drop(lon_name))\n",
    "mslp_fcst = mslp_fcst.rename({'_longitude_adjusted': lon_name})\n",
    "\n",
    "lats_zf = z_fcst.lat.values\n",
    "lons_zf = z_fcst.lon.values\n",
    "lats_mslpf = mslp_fcst.lat.values\n",
    "lons_mslpf = mslp_fcst.lon.values\n",
    "\n",
    "print(lats_zf)\n",
    "print(lons_zf)\n",
    "\n",
    "print(lats_mslpf)\n",
    "print(lons_mslpf)"
   ]
  },
  {
   "cell_type": "raw",
   "metadata": {},
   "source": [
    "Filtrage et grilles lat/lon 2D pour détection min max."
   ]
  },
  {
   "cell_type": "code",
   "execution_count": 109,
   "metadata": {},
   "outputs": [],
   "source": [
    "z_fcst_filter = gaussian_filter(z_fcst, sigma=2.0)\n",
    "mslp_fcst_filter = gaussian_filter(mslp_fcst, sigma=2.0)\n",
    "\n",
    "lon_grid_zf, lat_grid_zf = np.meshgrid(lons_zf, lats_zf)\n",
    "lon_grid_mslpf, lat_grid_mslpf = np.meshgrid(lons_mslpf, lats_mslpf)"
   ]
  },
  {
   "cell_type": "raw",
   "metadata": {},
   "source": [
    "Tracé des animations (Z500) sur le domaine de tracé choisi."
   ]
  },
  {
   "cell_type": "code",
   "execution_count": 110,
   "metadata": {
    "scrolled": false
   },
   "outputs": [
    {
     "name": "stdout",
     "output_type": "stream",
     "text": [
      "2012-09-20T00\n",
      "2012-09-20T12\n",
      "2012-09-21T00\n",
      "2012-09-21T12\n",
      "2012-09-22T00\n",
      "2012-09-22T12\n",
      "2012-09-23T00\n",
      "2012-09-23T12\n",
      "2012-09-24T00\n",
      "2012-09-24T12\n",
      "2012-09-25T00\n",
      "2012-09-25T12\n",
      "2012-09-26T00\n",
      "2012-09-26T12\n",
      "2012-09-27T00\n",
      "2012-09-27T12\n",
      "2012-09-28T00\n",
      "2012-09-28T12\n",
      "2012-09-29T00\n",
      "2012-09-29T12\n",
      "2012-09-30T00\n"
     ]
    },
    {
     "data": {
      "text/html": [
       "<img src=\"./anim/Z500.gif\"/>"
      ],
      "text/plain": [
       "<IPython.core.display.Image object>"
      ]
     },
     "execution_count": 110,
     "metadata": {},
     "output_type": "execute_result"
    }
   ],
   "source": [
    "cmap='jet'\n",
    "clevs1 = np.linspace(5000, 6000, 21)\n",
    "\n",
    "for i in range(len(timef)):\n",
    "    print(datesf_str[i])\n",
    "    fig = plt.figure(figsize=(15, 10))\n",
    "    fig.suptitle('Analysis : '+datesf_str[0]+' - Forecast : '+datesf_str[i], fontsize=14)\n",
    "    ax = fig.add_subplot(1, 1, 1, projection=ccrs.PlateCarree())\n",
    "    plt.title('Geopotential height at 500 hPa', size=10, loc='center')\n",
    "    plot_background(ax)\n",
    "    cf = ax.contourf(lons_zf, lats_zf, z_fcst[i,:,:], levels=clevs1, cmap=cmap, extend='both',\n",
    "                     transform=ccrs.PlateCarree())\n",
    "    c = ax.contour(lons_zf, lats_zf, z_fcst[i,:,:], levels=clevs1, colors='black', linewidths=0.5,\n",
    "                   transform=ccrs.PlateCarree())\n",
    "    ax.clabel(c, fmt='%4.1i', fontsize=10)\n",
    "    cb = fig.colorbar(cf, orientation='horizontal', aspect=65, shrink=1, pad=0.05, extendrect='True')\n",
    "    cb.set_label('(m)', fontsize=12)\n",
    "    plt.close()\n",
    "    figname='./anim/Z500_'+datesf_str[i]\n",
    "    fig.savefig(figname+'.png')\n",
    "    \n",
    "gif_filepath = './anim/Z500.gif'\n",
    "make_animation()\n",
    "IPdisplay.Image(url=gif_filepath)"
   ]
  },
  {
   "cell_type": "raw",
   "metadata": {},
   "source": [
    "Tracé des animations (MSLP) sur le domaine de tracé choisi."
   ]
  },
  {
   "cell_type": "code",
   "execution_count": 111,
   "metadata": {
    "scrolled": false
   },
   "outputs": [
    {
     "name": "stdout",
     "output_type": "stream",
     "text": [
      "2012-09-20T00\n",
      "2012-09-20T12\n",
      "2012-09-21T00\n",
      "2012-09-21T12\n",
      "2012-09-22T00\n",
      "2012-09-22T12\n",
      "2012-09-23T00\n",
      "2012-09-23T12\n",
      "2012-09-24T00\n",
      "2012-09-24T12\n",
      "2012-09-25T00\n",
      "2012-09-25T12\n",
      "2012-09-26T00\n",
      "2012-09-26T12\n",
      "2012-09-27T00\n",
      "2012-09-27T12\n",
      "2012-09-28T00\n",
      "2012-09-28T12\n",
      "2012-09-29T00\n",
      "2012-09-29T12\n",
      "2012-09-30T00\n"
     ]
    },
    {
     "data": {
      "text/html": [
       "<img src=\"./anim/MSLP.gif\"/>"
      ],
      "text/plain": [
       "<IPython.core.display.Image object>"
      ]
     },
     "execution_count": 111,
     "metadata": {},
     "output_type": "execute_result"
    }
   ],
   "source": [
    "cmap='jet'\n",
    "clevs2 = np.linspace(980, 1040, 21)\n",
    "bounds = [(lonW, lonE, latS, latN)]\n",
    "\n",
    "for i in range(len(timef)):\n",
    "    print(datesf_str[i])\n",
    "    fig = plt.figure(figsize=(15, 10))\n",
    "    fig.suptitle('Analysis : '+datesf_str[0]+' - Forecast : '+datesf_str[i], fontsize=14)\n",
    "    ax = fig.add_subplot(1, 1, 1, projection=ccrs.PlateCarree())\n",
    "    plt.title('Mean Sea Level Pressure', fontsize=10, loc='center')\n",
    "    ax.coastlines()\n",
    "    ax.set_extent(*bounds, crs=ccrs.PlateCarree())\n",
    "    cf = ax.contourf(lons_mslpf, lats_mslpf, mslp_fcst[i,:,:], levels=clevs2, cmap=cmap, extend='both',\n",
    "                     transform=ccrs.PlateCarree())\n",
    "    c = ax.contour(lons_mslpf, lats_mslpf, mslp_fcst[i,:,:], levels=clevs2, colors='black', linewidths=0.5,\n",
    "                   transform=ccrs.PlateCarree())\n",
    "    ax.clabel(c, fmt='%4.1i', fontsize=10)\n",
    "    cb = fig.colorbar(cf, orientation='horizontal', aspect=65, shrink=1, pad=0.05, extendrect='True')\n",
    "    cb.set_label('(hPa)', fontsize=12)\n",
    "    plt.close()\n",
    "    figname='./anim/MSLP_'+datesf_str[i]\n",
    "    fig.savefig(figname+'.png')\n",
    "\n",
    "gif_filepath = './anim/MSLP.gif'\n",
    "make_animation()\n",
    "IPdisplay.Image(url=gif_filepath)"
   ]
  }
 ],
 "metadata": {
  "kernelspec": {
   "display_name": "Python 3 (ipykernel)",
   "language": "python",
   "name": "python3"
  },
  "language_info": {
   "codemirror_mode": {
    "name": "ipython",
    "version": 3
   },
   "file_extension": ".py",
   "mimetype": "text/x-python",
   "name": "python",
   "nbconvert_exporter": "python",
   "pygments_lexer": "ipython3",
   "version": "3.8.10"
  }
 },
 "nbformat": 4,
 "nbformat_minor": 1
}
